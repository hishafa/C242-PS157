{
  "nbformat": 4,
  "nbformat_minor": 0,
  "metadata": {
    "colab": {
      "provenance": []
    },
    "kernelspec": {
      "name": "python3",
      "display_name": "Python 3"
    },
    "language_info": {
      "name": "python"
    }
  },
  "cells": [
    {
      "cell_type": "markdown",
      "source": [
        "# **AGRILENS : YOUR SMART EYE FOR YOUR HEALTHY CROPS**"
      ],
      "metadata": {
        "id": "LnF5IjpQsivB"
      }
    },
    {
      "cell_type": "markdown",
      "source": [
        "## Team ID :\n",
        "C242-PS157\n",
        "\n",
        "## Team Member :    \n",
        "1. M284B4KX0584 – Annisa Shafa Brilianty Lebeharia – Universitas Negeri Surabaya\n",
        "2. M284B4KY1400 – Farell Hafidz Irkhami – Universitas Negeri Surabaya\n",
        "3. M284B4KX4158 – Sinta Ayu Dwi Ardita – Universitas Negeri Surabaya\n",
        "4. C284B4KX3190 – Nabilah Salwa Salsabila – Universitas Negeri Surabaya  \n",
        "5. C284B4KY3409 – Nur Ahmad Siroj Rohmatillah – Universitas Negeri Surabaya  \n",
        "6. A284B4KY2935 – Muhammad Luthfi – Universitas Negeri Surabaya\n",
        "7. A284B4KY4582 – Yusuf Kelvin Siregar – Universitas Negeri Surabaya  \n"
      ],
      "metadata": {
        "id": "PvMAC61-tNIR"
      }
    },
    {
      "cell_type": "code",
      "source": [
        "#Import Library\n",
        "import os\n",
        "import numpy as np\n",
        "import tensorflow as tf\n",
        "from tensorflow.keras import layers, models\n",
        "import matplotlib.pyplot as plt\n",
        "from sklearn.metrics import confusion_matrix, classification_report\n",
        "import seaborn as sns"
      ],
      "metadata": {
        "id": "6FciGvdRxfIJ"
      },
      "execution_count": null,
      "outputs": []
    },
    {
      "cell_type": "code",
      "source": [
        "#Path Dataset\n",
        "dataset_path = '/content/drive/MyDrive/Datasets-Capstone/Dataset-Agrilens-1'\n",
        "train_dataset_path = '/content/drive/MyDrive/Datasets-Capstone/Dataset-Agrilens-1/Train'\n",
        "val_dataset_path = '/content/drive/MyDrive/Datasets-Capstone/Dataset-Agrilens-1/Validation'\n",
        "test_dataset_path = '/content/drive/MyDrive/Datasets-Capstone/Dataset-Agrilens-1/Test'\n",
        "\n",
        "# Define image size and batch size\n",
        "img_size = (224, 224)\n",
        "batch_size = 32\n",
        "\n",
        "# Load the dataset\n",
        "train_dataset = tf.keras.preprocessing.image_dataset_from_directory(\n",
        "    os.path.join(dataset_path, 'Train'),\n",
        "    image_size=img_size,\n",
        "    batch_size=batch_size,\n",
        "    label_mode='int',\n",
        "    shuffle=True\n",
        ")\n",
        "\n",
        "val_dataset = tf.keras.preprocessing.image_dataset_from_directory(\n",
        "    os.path.join(dataset_path, 'Validation'),\n",
        "    image_size=img_size,\n",
        "    batch_size=batch_size,\n",
        "    label_mode='int',\n",
        "    shuffle=False\n",
        ")\n",
        "\n",
        "test_dataset = tf.keras.preprocessing.image_dataset_from_directory(\n",
        "    os.path.join(dataset_path, 'Test'),\n",
        "    image_size=img_size,\n",
        "    batch_size=batch_size,\n",
        "    label_mode='int',\n",
        "    shuffle=False\n",
        ")"
      ],
      "metadata": {
        "colab": {
          "base_uri": "https://localhost:8080/"
        },
        "id": "rr6OSFWyzVk5",
        "outputId": "6f69ed72-617e-4f66-ee8e-20f73a056e01"
      },
      "execution_count": null,
      "outputs": [
        {
          "output_type": "stream",
          "name": "stdout",
          "text": [
            "Found 1323 files belonging to 3 classes.\n",
            "Found 60 files belonging to 3 classes.\n",
            "Found 150 files belonging to 3 classes.\n"
          ]
        }
      ]
    },
    {
      "cell_type": "code",
      "source": [
        "  # Normalization layer\n",
        "normalization_layer = layers.Rescaling(1.0 / 255)\n",
        "\n",
        "# Data augmentation layer\n",
        "data_augmentation = tf.keras.Sequential([\n",
        "    layers.RandomFlip(\"horizontal\"),\n",
        "    layers.RandomRotation(0.2),\n",
        "])\n",
        "\n",
        "# Preprocess data (apply data augmentation for training, only normalization for validation and test)\n",
        "train_dataset = train_dataset.map(lambda x, y: (data_augmentation(normalization_layer(x)), y))\n",
        "val_dataset = val_dataset.map(lambda x, y: (normalization_layer(x), y))\n",
        "test_dataset = test_dataset.map(lambda x, y: (normalization_layer(x), y))\n",
        "\n",
        "# Prefetch for better performance\n",
        "AUTOTUNE = tf.data.AUTOTUNE\n",
        "train_dataset = train_dataset.prefetch(buffer_size=AUTOTUNE)\n",
        "val_dataset = val_dataset.prefetch(buffer_size=AUTOTUNE)\n",
        "test_dataset = test_dataset.prefetch(buffer_size=AUTOTUNE)\n"
      ],
      "metadata": {
        "id": "QeGQ6XXnztJo"
      },
      "execution_count": null,
      "outputs": []
    },
    {
      "cell_type": "code",
      "source": [
        "# Create the CNN model\n",
        "def create_cnn_model():\n",
        "    model = models.Sequential([\n",
        "        layers.InputLayer(shape=(224, 224, 3)),  # Specify input shape here\n",
        "        layers.Conv2D(32, (3, 3), activation='relu'),\n",
        "        layers.MaxPooling2D((2, 2)),\n",
        "        layers.Conv2D(64, (3, 3), activation='relu'),\n",
        "        layers.MaxPooling2D((2, 2)),\n",
        "        layers.Conv2D(128, (3, 3), activation='relu'),\n",
        "        layers.MaxPooling2D((2, 2)),\n",
        "        layers.Flatten(),\n",
        "        layers.Dense(128, activation='relu'),\n",
        "        layers.Dense(3, activation='softmax')  # Output layer for 3 classes: rust, powdery, healthy\n",
        "    ])\n",
        "    model.compile(\n",
        "        optimizer='adam',\n",
        "        loss='sparse_categorical_crossentropy',\n",
        "        metrics=['accuracy']\n",
        "    )\n",
        "    return model"
      ],
      "metadata": {
        "id": "02CWxmVfz7_1"
      },
      "execution_count": null,
      "outputs": []
    },
    {
      "cell_type": "code",
      "source": [
        "# Create and train the model\n",
        "model = create_cnn_model()\n",
        "\n",
        "history = model.fit(\n",
        "    train_dataset,  # Pass the dataset object here\n",
        "    validation_data=val_dataset,  # Pass the dataset object here\n",
        "    epochs=10\n",
        ")"
      ],
      "metadata": {
        "colab": {
          "base_uri": "https://localhost:8080/"
        },
        "id": "DW9jKU8i0JrV",
        "outputId": "e367e112-39de-437d-e068-5c084ab9d942"
      },
      "execution_count": null,
      "outputs": [
        {
          "output_type": "stream",
          "name": "stdout",
          "text": [
            "Epoch 1/10\n",
            "\u001b[1m42/42\u001b[0m \u001b[32m━━━━━━━━━━━━━━━━━━━━\u001b[0m\u001b[37m\u001b[0m \u001b[1m248s\u001b[0m 6s/step - accuracy: 0.4057 - loss: 2.1554 - val_accuracy: 0.3500 - val_loss: 1.1561\n",
            "Epoch 2/10\n",
            "\u001b[1m42/42\u001b[0m \u001b[32m━━━━━━━━━━━━━━━━━━━━\u001b[0m\u001b[37m\u001b[0m \u001b[1m237s\u001b[0m 6s/step - accuracy: 0.6522 - loss: 0.7240 - val_accuracy: 0.7833 - val_loss: 0.5220\n",
            "Epoch 3/10\n",
            "\u001b[1m42/42\u001b[0m \u001b[32m━━━━━━━━━━━━━━━━━━━━\u001b[0m\u001b[37m\u001b[0m \u001b[1m269s\u001b[0m 6s/step - accuracy: 0.8130 - loss: 0.4484 - val_accuracy: 0.8000 - val_loss: 0.4012\n",
            "Epoch 4/10\n",
            "\u001b[1m42/42\u001b[0m \u001b[32m━━━━━━━━━━━━━━━━━━━━\u001b[0m\u001b[37m\u001b[0m \u001b[1m252s\u001b[0m 6s/step - accuracy: 0.8794 - loss: 0.3309 - val_accuracy: 0.8333 - val_loss: 0.4905\n",
            "Epoch 5/10\n",
            "\u001b[1m42/42\u001b[0m \u001b[32m━━━━━━━━━━━━━━━━━━━━\u001b[0m\u001b[37m\u001b[0m \u001b[1m274s\u001b[0m 6s/step - accuracy: 0.8876 - loss: 0.3363 - val_accuracy: 0.9000 - val_loss: 0.2754\n",
            "Epoch 6/10\n",
            "\u001b[1m42/42\u001b[0m \u001b[32m━━━━━━━━━━━━━━━━━━━━\u001b[0m\u001b[37m\u001b[0m \u001b[1m237s\u001b[0m 6s/step - accuracy: 0.9409 - loss: 0.2047 - val_accuracy: 0.9333 - val_loss: 0.3459\n",
            "Epoch 7/10\n",
            "\u001b[1m42/42\u001b[0m \u001b[32m━━━━━━━━━━━━━━━━━━━━\u001b[0m\u001b[37m\u001b[0m \u001b[1m273s\u001b[0m 6s/step - accuracy: 0.9258 - loss: 0.2143 - val_accuracy: 0.8500 - val_loss: 0.3286\n",
            "Epoch 8/10\n",
            "\u001b[1m42/42\u001b[0m \u001b[32m━━━━━━━━━━━━━━━━━━━━\u001b[0m\u001b[37m\u001b[0m \u001b[1m262s\u001b[0m 6s/step - accuracy: 0.9184 - loss: 0.2574 - val_accuracy: 0.9333 - val_loss: 0.3344\n",
            "Epoch 9/10\n",
            "\u001b[1m42/42\u001b[0m \u001b[32m━━━━━━━━━━━━━━━━━━━━\u001b[0m\u001b[37m\u001b[0m \u001b[1m248s\u001b[0m 5s/step - accuracy: 0.9421 - loss: 0.2201 - val_accuracy: 0.9167 - val_loss: 0.3191\n",
            "Epoch 10/10\n",
            "\u001b[1m42/42\u001b[0m \u001b[32m━━━━━━━━━━━━━━━━━━━━\u001b[0m\u001b[37m\u001b[0m \u001b[1m247s\u001b[0m 6s/step - accuracy: 0.9383 - loss: 0.1905 - val_accuracy: 0.9167 - val_loss: 0.4168\n"
          ]
        }
      ]
    },
    {
      "cell_type": "code",
      "source": [
        "# Evaluate the model on the test set\n",
        "test_loss, test_acc = model.evaluate(test_dataset)\n",
        "print(f\"Test Accuracy: {test_acc}\")\n",
        "print(f\"Test Loss: {test_loss}\")"
      ],
      "metadata": {
        "colab": {
          "base_uri": "https://localhost:8080/"
        },
        "id": "IZND5SYLFcIY",
        "outputId": "029f02a9-0b7a-42aa-c888-afa18923dd39"
      },
      "execution_count": null,
      "outputs": [
        {
          "output_type": "stream",
          "name": "stdout",
          "text": [
            "\u001b[1m5/5\u001b[0m \u001b[32m━━━━━━━━━━━━━━━━━━━━\u001b[0m\u001b[37m\u001b[0m \u001b[1m27s\u001b[0m 5s/step - accuracy: 0.9336 - loss: 0.2445\n",
            "Test Accuracy: 0.9399999976158142\n",
            "Test Loss: 0.24046051502227783\n"
          ]
        }
      ]
    },
    {
      "cell_type": "code",
      "source": [
        "# Get the predictions for the test set\n",
        "y_true = []\n",
        "y_pred = []\n",
        "\n",
        "for images, labels in test_dataset:\n",
        "    y_true.extend(labels.numpy())  # Get true labels\n",
        "    predictions = model.predict(images)\n",
        "    y_pred.extend(np.argmax(predictions, axis=1))  # Get predicted labels"
      ],
      "metadata": {
        "colab": {
          "base_uri": "https://localhost:8080/"
        },
        "id": "8cQcnSsuFsnt",
        "outputId": "11ceffe4-871c-4284-8b4a-5d4301faa4e8"
      },
      "execution_count": null,
      "outputs": [
        {
          "output_type": "stream",
          "name": "stdout",
          "text": [
            "\u001b[1m1/1\u001b[0m \u001b[32m━━━━━━━━━━━━━━━━━━━━\u001b[0m\u001b[37m\u001b[0m \u001b[1m3s\u001b[0m 3s/step\n",
            "\u001b[1m1/1\u001b[0m \u001b[32m━━━━━━━━━━━━━━━━━━━━\u001b[0m\u001b[37m\u001b[0m \u001b[1m2s\u001b[0m 2s/step\n",
            "\u001b[1m1/1\u001b[0m \u001b[32m━━━━━━━━━━━━━━━━━━━━\u001b[0m\u001b[37m\u001b[0m \u001b[1m2s\u001b[0m 2s/step\n",
            "\u001b[1m1/1\u001b[0m \u001b[32m━━━━━━━━━━━━━━━━━━━━\u001b[0m\u001b[37m\u001b[0m \u001b[1m2s\u001b[0m 2s/step\n",
            "\u001b[1m1/1\u001b[0m \u001b[32m━━━━━━━━━━━━━━━━━━━━\u001b[0m\u001b[37m\u001b[0m \u001b[1m1s\u001b[0m 666ms/step\n"
          ]
        }
      ]
    },
    {
      "cell_type": "code",
      "source": [
        "# Confusion Matrix\n",
        "conf_matrix = confusion_matrix(y_true, y_pred)\n",
        "\n",
        "# Classification Report\n",
        "class_report = classification_report(y_true, y_pred, target_names=[\"rust\", \"powdery\", \"healthy\"])"
      ],
      "metadata": {
        "id": "fsK6Kv08GKO0"
      },
      "execution_count": null,
      "outputs": []
    },
    {
      "cell_type": "code",
      "source": [
        "# Create a folder for saving results in Google Drive\n",
        "result_folder = '/content/drive/MyDrive/Datasets-Capstone/Dataset-Result/D1'\n",
        "os.makedirs(result_folder, exist_ok=True)  # Create the folder if it doesn't exist"
      ],
      "metadata": {
        "id": "Ulb5fqs1HWsI"
      },
      "execution_count": null,
      "outputs": []
    },
    {
      "cell_type": "code",
      "source": [
        "# Save Confusion Matrix as an image in the result folder\n",
        "conf_matrix_img_path = os.path.join(result_folder, 'confusion_matrix.png')\n",
        "plt.figure(figsize=(8, 6))\n",
        "sns.heatmap(conf_matrix, annot=True, fmt='d', cmap='Blues', xticklabels=[\"rust\", \"powdery\", \"healthy\"], yticklabels=[\"rust\", \"powdery\", \"healthy\"])\n",
        "plt.title('Confusion Matrix')\n",
        "plt.xlabel('Predicted Label')\n",
        "plt.ylabel('True Label')\n",
        "plt.savefig(conf_matrix_img_path)\n",
        "plt.show()"
      ],
      "metadata": {
        "colab": {
          "base_uri": "https://localhost:8080/",
          "height": 564
        },
        "id": "XOn2LvahGMFJ",
        "outputId": "43b65ae1-eab5-4028-917d-55a8442b5ca1"
      },
      "execution_count": null,
      "outputs": [
        {
          "output_type": "display_data",
          "data": {
            "text/plain": [
              "<Figure size 800x600 with 2 Axes>"
            ],
            "image/png": "[encoded data removed]"
          },
          "metadata": {}
        }
      ]
    },
    {
      "cell_type": "code",
      "source": [
        "# Save Classification Report as a text file in the result folder\n",
        "classification_report_path = os.path.join(result_folder, 'classification_report.txt')\n",
        "with open(classification_report_path, 'w') as f:\n",
        "    f.write(class_report)\n",
        "    f.write(f\"\\nTest Accuracy: {test_acc}\")\n",
        "    f.write(f\"\\nTest Loss: {test_loss}\")\n",
        "print(\"Classification Report:\\n\")\n",
        "print(class_report)"
      ],
      "metadata": {
        "colab": {
          "base_uri": "https://localhost:8080/"
        },
        "id": "AK-vw9Y9GR8X",
        "outputId": "d15afde0-1557-4d24-b843-36497a48f451"
      },
      "execution_count": null,
      "outputs": [
        {
          "output_type": "stream",
          "name": "stdout",
          "text": [
            "Classification Report:\n",
            "\n",
            "              precision    recall  f1-score   support\n",
            "\n",
            "        rust       0.90      0.94      0.92        50\n",
            "     powdery       0.92      0.94      0.93        50\n",
            "     healthy       1.00      0.94      0.97        50\n",
            "\n",
            "    accuracy                           0.94       150\n",
            "   macro avg       0.94      0.94      0.94       150\n",
            "weighted avg       0.94      0.94      0.94       150\n",
            "\n"
          ]
        }
      ]
    },
    {
      "cell_type": "code",
      "source": [
        "# Save Training History Plots (Accuracy/Loss) in the result folder\n",
        "history_img_path = os.path.join(result_folder, 'training_history.png')\n",
        "plt.figure(figsize=(12, 4))"
      ],
      "metadata": {
        "colab": {
          "base_uri": "https://localhost:8080/",
          "height": 52
        },
        "id": "NQB70EK4GWfp",
        "outputId": "12386509-19a9-4594-eb22-1280c36ab8bf"
      },
      "execution_count": null,
      "outputs": [
        {
          "output_type": "execute_result",
          "data": {
            "text/plain": [
              "<Figure size 1200x400 with 0 Axes>"
            ]
          },
          "metadata": {},
          "execution_count": 96
        },
        {
          "output_type": "display_data",
          "data": {
            "text/plain": [
              "<Figure size 1200x400 with 0 Axes>"
            ]
          },
          "metadata": {}
        }
      ]
    },
    {
      "cell_type": "code",
      "source": [
        "# Plotting Accuracy\n",
        "plt.subplot(1, 2, 1)\n",
        "plt.plot(history.history['accuracy'], label='Training Accuracy')\n",
        "plt.plot(history.history['val_accuracy'], label='Validation Accuracy')\n",
        "plt.title('Model Accuracy')\n",
        "plt.xlabel('Epochs')\n",
        "plt.ylabel('Accuracy')\n",
        "plt.legend()"
      ],
      "metadata": {
        "colab": {
          "base_uri": "https://localhost:8080/",
          "height": 489
        },
        "id": "e1fzpojbGcd3",
        "outputId": "c6f6bfc4-cde4-4ab9-8d5f-b583e74d8321"
      },
      "execution_count": null,
      "outputs": [
        {
          "output_type": "execute_result",
          "data": {
            "text/plain": [
              "<matplotlib.legend.Legend at 0x7f240630dc60>"
            ]
          },
          "metadata": {},
          "execution_count": 93
        },
        {
          "output_type": "display_data",
          "data": {
            "text/plain": [
              "<Figure size 640x480 with 1 Axes>"
            ],
            "image/png": "[encoded data removed]"
          },
          "metadata": {}
        }
      ]
    },
    {
      "cell_type": "code",
      "source": [
        "# Plotting Loss\n",
        "plt.subplot(1, 2, 2)\n",
        "plt.plot(history.history['loss'], label='Training Loss')\n",
        "plt.plot(history.history['val_loss'], label='Validation Loss')\n",
        "plt.title('Model Loss')\n",
        "plt.xlabel('Epochs')\n",
        "plt.ylabel('Loss')\n",
        "plt.legend()"
      ],
      "metadata": {
        "colab": {
          "base_uri": "https://localhost:8080/",
          "height": 489
        },
        "id": "UpbdVR1RGkt9",
        "outputId": "8ab389ae-ed9a-4b7f-961b-8c63eb8c0459"
      },
      "execution_count": null,
      "outputs": [
        {
          "output_type": "execute_result",
          "data": {
            "text/plain": [
              "<matplotlib.legend.Legend at 0x7f240617d8d0>"
            ]
          },
          "metadata": {},
          "execution_count": 94
        },
        {
          "output_type": "display_data",
          "data": {
            "text/plain": [
              "<Figure size 640x480 with 1 Axes>"
            ],
            "image/png": "[encoded data removed]"
          },
          "metadata": {}
        }
      ]
    },
    {
      "cell_type": "code",
      "source": [
        "plt.tight_layout()\n",
        "plt.savefig(history_img_path)\n",
        "plt.close()"
      ],
      "metadata": {
        "id": "p4MNlEvCJoGh"
      },
      "execution_count": null,
      "outputs": []
    },
    {
      "cell_type": "code",
      "source": [
        "# Print paths to the saved files\n",
        "print(f\"Confusion Matrix saved to: {conf_matrix_img_path}\")\n",
        "print(f\"Classification Report saved to: {classification_report_path}\")\n",
        "print(f\"Training History Plot saved to: {history_img_path}\")"
      ],
      "metadata": {
        "colab": {
          "base_uri": "https://localhost:8080/"
        },
        "id": "zjUqyshPJCmt",
        "outputId": "f466b674-b8d6-4718-971d-e7639897b6e1"
      },
      "execution_count": null,
      "outputs": [
        {
          "output_type": "stream",
          "name": "stdout",
          "text": [
            "Confusion Matrix saved to: /content/drive/MyDrive/Datasets-Capstone/Dataset-Result/D1/confusion_matrix.png\n",
            "Classification Report saved to: /content/drive/MyDrive/Datasets-Capstone/Dataset-Result/D1/classification_report.txt\n",
            "Training History Plot saved to: /content/drive/MyDrive/Datasets-Capstone/Dataset-Result/D1/training_history.png\n"
          ]
        }
      ]
    }
  ]
}